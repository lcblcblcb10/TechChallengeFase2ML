{
 "cells": [
  {
   "cell_type": "markdown",
   "metadata": {},
   "source": [
    "Tech Challenge - FIAP - Fase 2 - Grupo 23"
   ]
  },
  {
   "cell_type": "markdown",
   "metadata": {},
   "source": [
    "Bucket S3: techchallengefiapgrupo23"
   ]
  },
  {
   "cell_type": "markdown",
   "metadata": {},
   "source": [
    "Microsoft Edge"
   ]
  },
  {
   "cell_type": "code",
   "execution_count": 1,
   "metadata": {},
   "outputs": [
    {
     "name": "stdout",
     "output_type": "stream",
     "text": [
      "Iniciando o upload do arquivo C:\\Users\\AGFAKZZ\\Desktop\\FIAP\\Fase 2 - Big Data Architecture\\bovespa\\arquivo.parquet para o bucket techchallengefiapgrupo23 com a chave arquivo.parquet.\n",
      "Erro ao fazer upload para o S3: Failed to upload C:\\Users\\AGFAKZZ\\Desktop\\FIAP\\Fase 2 - Big Data Architecture\\bovespa\\arquivo.parquet to techchallengefiapgrupo23/arquivo.parquet: An error occurred (InvalidToken) when calling the PutObject operation: The provided token is malformed or otherwise invalid.\n",
      "Arquivo processado e enviado para o S3 com sucesso.\n",
      "Navegador ainda aberto. Feche-o manualmente quando terminar.\n"
     ]
    }
   ],
   "source": [
    "import os\n",
    "import time\n",
    "import pandas as pd\n",
    "import boto3\n",
    "from selenium import webdriver\n",
    "from selenium.webdriver.edge.service import Service\n",
    "from selenium.webdriver.edge.options import Options\n",
    "from selenium.webdriver.common.by import By\n",
    "from selenium.webdriver.support.ui import WebDriverWait\n",
    "from selenium.webdriver.support import expected_conditions as EC\n",
    "from datetime import datetime\n",
    "\n",
    "AWS_ACESS_KET_ID = os.environ.get('AWS_ACESS_KET_ID')\n",
    "AWS_SECRET_ACESS_KEY = os.environ.get('AWS_SECRET_ACESS_KEY')\n",
    "\n",
    "# Configuração do WebDriver (EdgeDriver)\n",
    "edge_options = Options()\n",
    "service = Service(r'C:\\Users\\AGFAKZZ\\Downloads\\edgedriver_win64\\msedgedriver.exe')\n",
    "driver = webdriver.Edge(service=service, options=edge_options)\n",
    "\n",
    "def download_file(driver, download_dir):\n",
    "    # Abrir a página da web\n",
    "    driver.get(\"https://arquivos.b3.com.br/Web/Consolidated\")\n",
    "    \n",
    "    # Espera até que o botão de download esteja presente e clicável, e clica nele\n",
    "    download_button = WebDriverWait(driver, 20).until(\n",
    "        EC.element_to_be_clickable((By.XPATH, '/html/body/div/div/div/div/div[2]/div[1]/div/div[1]/div[2]/div/div/div[1]/div[2]/p[2]/a[1]'))\n",
    "    )\n",
    "    download_button.click()\n",
    "    \n",
    "    # Espera o arquivo ser baixado\n",
    "    time.sleep(20)  # Ajuste o tempo conforme necessário\n",
    "\n",
    "    # Nome do arquivo baixado\n",
    "    filename = 'TradeInformationConsolidatedAfterHoursFile_20240910_1.csv'\n",
    "    file_path = os.path.join(download_dir, filename)\n",
    "    \n",
    "    if os.path.exists(file_path):\n",
    "        return file_path\n",
    "    else:\n",
    "        raise FileNotFoundError(f\"Arquivo não encontrado: {file_path}\")\n",
    "\n",
    "def convert_to_parquet(input_file_path, output_file_path):\n",
    "    # Carregar o arquivo CSV em um DataFrame com opções robustas\n",
    "    try:\n",
    "        df = pd.read_csv(input_file_path, delimiter=';', on_bad_lines='warn')\n",
    "    except pd.errors.ParserError as e:\n",
    "        print(f\"Erro ao ler o arquivo CSV: {e}\")\n",
    "        return\n",
    "\n",
    "    # Adicionar uma coluna de data se não existir\n",
    "    if 'date' not in df.columns:\n",
    "        df['date'] = datetime.now().strftime('%Y-%m-%d')\n",
    "    \n",
    "    # Salvar o DataFrame em formato Parquet\n",
    "    try:\n",
    "        df.to_parquet(output_file_path, index=False)\n",
    "    except Exception as e:\n",
    "        print(f\"Erro ao salvar o arquivo Parquet: {e}\")\n",
    "        return\n",
    "\n",
    "def upload_to_s3(file_path, bucket_name, s3_key):\n",
    "    # Configurar o cliente S3 (as credenciais são lidas automaticamente do arquivo credentials)\n",
    "    s3_client = boto3.client(\n",
    "        's3'\n",
    "    )\n",
    "    \n",
    "    print(f\"Iniciando o upload do arquivo {file_path} para o bucket {bucket_name} com a chave {s3_key}.\")\n",
    "    \n",
    "    try:\n",
    "        s3_client.upload_file(file_path, bucket_name, s3_key)\n",
    "        print(\"Upload concluído com sucesso.\")\n",
    "    except Exception as e:\n",
    "        print(f\"Erro ao fazer upload para o S3: {e}\")\n",
    "\n",
    "try:\n",
    "    # Diretório de download\n",
    "    download_dir = r'C:\\Users\\AGFAKZZ\\Downloads'\n",
    "    \n",
    "    # Diretório para armazenar o arquivo Parquet\n",
    "    bovespa_dir = r'C:\\Users\\AGFAKZZ\\Desktop\\FIAP\\Fase 2 - Big Data Architecture\\bovespa'\n",
    "    \n",
    "    # Crie o diretório bovespa se não existir\n",
    "    os.makedirs(bovespa_dir, exist_ok=True)\n",
    "    \n",
    "    # Baixar o arquivo\n",
    "    file_path = download_file(driver, download_dir)\n",
    "    \n",
    "    # Nome do arquivo Parquet a ser salvo no diretório bovespa\n",
    "    parquet_file_path = os.path.join(bovespa_dir, 'arquivo.parquet')\n",
    "    \n",
    "    # Converter o arquivo para Parquet\n",
    "    convert_to_parquet(file_path, parquet_file_path)\n",
    "    \n",
    "    # Upload para o S3\n",
    "    bucket_name = 'techchallengefiapgrupo23'\n",
    "    s3_key = 'arquivo.parquet'  # Ajuste o caminho conforme necessário\n",
    "    upload_to_s3(parquet_file_path, bucket_name, s3_key)\n",
    "    \n",
    "    print(\"Arquivo processado e enviado para o S3 com sucesso.\")\n",
    "\n",
    "except Exception as e:\n",
    "    print(f\"Ocorreu um erro: {e}\")\n",
    "\n",
    "finally:\n",
    "    # O navegador não será fechado automaticamente\n",
    "    print(\"Navegador ainda aberto. Feche-o manualmente quando terminar.\")"
   ]
  },
  {
   "cell_type": "markdown",
   "metadata": {}
  },
  {
   "cell_type": "markdown",
   "metadata": {}
  }
 ],
 "metadata": {
  "kernelspec": {
   "display_name": "Python 3",
   "language": "python",
   "name": "python3"
  },
  "language_info": {
   "codemirror_mode": {
    "name": "ipython",
    "version": 3
   },
   "file_extension": ".py",
   "mimetype": "text/x-python",
   "name": "python",
   "nbconvert_exporter": "python",
   "pygments_lexer": "ipython3",
   "version": "3.12.4"
  }
 },
 "nbformat": 4,
 "nbformat_minor": 2
}
